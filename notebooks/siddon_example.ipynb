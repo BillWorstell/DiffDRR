{
 "cells": [
  {
   "cell_type": "code",
   "execution_count": 1,
   "id": "40b79247",
   "metadata": {},
   "outputs": [],
   "source": [
    "import torch\n",
    "\n",
    "from src import Siddon"
   ]
  },
  {
   "cell_type": "code",
   "execution_count": 2,
   "id": "e6625165",
   "metadata": {},
   "outputs": [],
   "source": [
    "# Make a test class\n",
    "volume = torch.rand(4, 4, 4).abs()\n",
    "siddon = Siddon(spacing=[1.0, 1.0, 1.0], center=[0.0, 0.0, 0.0], volume=volume)"
   ]
  },
  {
   "cell_type": "code",
   "execution_count": 3,
   "id": "f91ae6ed",
   "metadata": {},
   "outputs": [
    {
     "data": {
      "text/plain": [
       "tensor(0.2001, grad_fn=<AddBackward0>)"
      ]
     },
     "execution_count": 3,
     "metadata": {},
     "output_type": "execute_result"
    }
   ],
   "source": [
    "# Test the raytrace function\n",
    "source = [-1.5, -1.0, -1.0]\n",
    "target = [6.0, 6.0, 6.0]\n",
    "source = torch.tensor(source, requires_grad=True)\n",
    "target = torch.tensor(target, requires_grad=True)\n",
    "\n",
    "radiologic_path_length = siddon.raytrace(source, target)\n",
    "radiologic_path_length"
   ]
  },
  {
   "cell_type": "code",
   "execution_count": 4,
   "id": "138b68dc",
   "metadata": {},
   "outputs": [
    {
     "data": {
      "text/plain": [
       "(tensor([ 0.0522,  0.0137, -0.0410]), tensor([ 0.0383, -0.0467, -0.0228]))"
      ]
     },
     "execution_count": 4,
     "metadata": {},
     "output_type": "execute_result"
    }
   ],
   "source": [
    "# Test backwards AD\n",
    "radiologic_path_length.backward()\n",
    "\n",
    "source.grad, target.grad"
   ]
  },
  {
   "cell_type": "markdown",
   "id": "d970149b",
   "metadata": {},
   "source": [
    "This implementation of the `Siddon` raytracing method is differentiable with respect to the `source` and `target` locations, the spatial parameters of our simulated X-ray setup."
   ]
  },
  {
   "cell_type": "code",
   "execution_count": 5,
   "id": "14fe8a26",
   "metadata": {},
   "outputs": [
    {
     "name": "stdout",
     "output_type": "stream",
     "text": [
      "370 µs ± 4.73 µs per loop (mean ± std. dev. of 7 runs, 1,000 loops each)\n"
     ]
    }
   ],
   "source": [
    "# Timing experiment results on the CPU\n",
    "%timeit siddon.raytrace(source, target)"
   ]
  }
 ],
 "metadata": {
  "@webio": {
   "lastCommId": null,
   "lastKernelId": null
  },
  "kernelspec": {
   "display_name": "Python [conda env:diffdrr]",
   "language": "python",
   "name": "conda-env-diffdrr-py"
  },
  "language_info": {
   "codemirror_mode": {
    "name": "ipython",
    "version": 3
   },
   "file_extension": ".py",
   "mimetype": "text/x-python",
   "name": "python",
   "nbconvert_exporter": "python",
   "pygments_lexer": "ipython3",
   "version": "3.8.13"
  }
 },
 "nbformat": 4,
 "nbformat_minor": 5
}
