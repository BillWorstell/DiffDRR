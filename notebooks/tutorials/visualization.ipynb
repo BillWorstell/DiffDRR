{
 "cells": [
  {
   "cell_type": "raw",
   "id": "604ba171-c496-49b4-871f-28d50cb91c8b",
   "metadata": {},
   "source": [
    "---\n",
    "title: Visualize X-rays in 3D\n",
    "description: Rendering 3D geometry with PyVista\n",
    "output-file: visualization.html\n",
    "skip_exec: True\n",
    "---"
   ]
  },
  {
   "cell_type": "markdown",
   "id": "a6da7edd-3fff-4b04-a5b1-2ba4849096f1",
   "metadata": {},
   "source": [
    "Visualizing the 3D geometry of the X-ray detector in `DiffDRR` can be a helpful sanity check and is useful for debugging. We enable visualization of the `DiffDRR` set up using `PyVista`. The dependencies are `pyvista`, `trame`, and `vtk`.\n",
    "\n",
    "The 3D visualization functions in `DiffDRR` perform the following:\n",
    "- Extract a mesh from your CT volume\n",
    "- Plot a pyramid frustum to visualize the camera pose\n",
    "- Plot the detector plane with the DRR embedded as a texture\n",
    "- Draw the principal ray from the X-ray source to the detector plane\n",
    "\n",
    "Mesh extraction currently supports\n",
    "- MarchingCubes\n",
    "- [SurfaceNets](https://www.kitware.com/really-fast-isocontouring/)\n",
    "\n",
    "In the future, we plan to merge [SurfaceNets](https://www.kitware.com/really-fast-isocontouring/) with [TotalSegmentator](https://github.com/wasserth/TotalSegmentator) such that CT meshes can be rendered from label maps."
   ]
  },
  {
   "cell_type": "code",
   "execution_count": null,
   "id": "412fa889-ed93-4ef5-94a8-2698f57ea7ab",
   "metadata": {},
   "outputs": [],
   "source": [
    "import pyvista\n",
    "\n",
    "pyvista.set_jupyter_backend(\"trame\")"
   ]
  },
  {
   "cell_type": "code",
   "execution_count": null,
   "id": "e195330f-e305-4112-a3e5-d25b183c689c",
   "metadata": {},
   "outputs": [],
   "source": [
    "#| code-fold: true\n",
    "import torch\n",
    "\n",
    "from diffdrr.data import load_example_ct\n",
    "from diffdrr.drr import DRR\n",
    "from diffdrr.visualization import drr_to_mesh, img_to_mesh\n",
    "\n",
    "device = torch.device(\"cuda\" if torch.cuda.is_available() else \"cpu\")\n",
    "\n",
    "# Read in the volume and get the isocenter\n",
    "volume, spacing = load_example_ct()\n",
    "bx, by, bz = torch.tensor(volume.shape) * torch.tensor(spacing) / 2\n",
    "focal_len = 1020.0\n",
    "\n",
    "# Initialize the DRR module for generating synthetic X-rays\n",
    "device = torch.device(\"cuda\" if torch.cuda.is_available() else \"cpu\")\n",
    "drr = DRR(volume, spacing, sdr=focal_len / 2, height=200, delx=2.0).to(device)"
   ]
  },
  {
   "cell_type": "raw",
   "id": "243cbb7e-fcce-4214-a642-793bb3d93687",
   "metadata": {},
   "source": [
    "::: {.callout-tip}\n",
    "To use `surface_nets` to extract a mesh, ensure you have installed `pyvista>=0.43` and `vtk>=9.3`. Otherwise, you can use `marching_cubes`, which is slower and can produce meshes with holes.\n",
    ":::"
   ]
  },
  {
   "cell_type": "code",
   "execution_count": null,
   "id": "06c4fe21-2f1b-41c2-bfa4-e6c438e2f55a",
   "metadata": {},
   "outputs": [],
   "source": [
    "plotter = pyvista.Plotter()\n",
    "\n",
    "# Make a mesh from the CT volume\n",
    "ct = drr_to_mesh(drr, \"surface_nets\", threshold=1150, verbose=False)\n",
    "plotter.add_mesh(ct)\n",
    "\n",
    "# Make a mesh from the camera and detector plane\n",
    "rotations = torch.tensor([[torch.pi, 0.0, torch.pi / 2]], device=device)\n",
    "translations = torch.tensor([[bx - focal_len / 3, by, bz]], device=device)\n",
    "camera, detector, texture, principal_ray = img_to_mesh(\n",
    "    drr, rotations, translations, \"euler_angles\", \"ZYX\"\n",
    ")\n",
    "plotter.add_mesh(camera, show_edges=True, line_width=1.5)\n",
    "plotter.add_mesh(principal_ray, color=\"lime\", line_width=3)\n",
    "plotter.add_mesh(detector, texture=texture)\n",
    "\n",
    "# Make the plot\n",
    "plotter.add_axes()\n",
    "plotter.add_bounding_box()\n",
    "\n",
    "# Soon, this command will natively export a PyVista scene as HTML\n",
    "# plotter.show(jupyter_backend=\"html\")\n",
    "plotter.export_html(\"render.html\")"
   ]
  },
  {
   "cell_type": "code",
   "execution_count": null,
   "id": "410ff036-5727-4a77-8547-8db900ce98fe",
   "metadata": {},
   "outputs": [
    {
     "data": {
      "text/html": [
       "\n",
       "        <iframe\n",
       "            width=\"749\"\n",
       "            height=\"500\"\n",
       "            src=\"render.html\"\n",
       "            frameborder=\"0\"\n",
       "            allowfullscreen\n",
       "            \n",
       "        ></iframe>\n",
       "        "
      ],
      "text/plain": [
       "<IPython.lib.display.IFrame>"
      ]
     },
     "execution_count": null,
     "metadata": {},
     "output_type": "execute_result"
    }
   ],
   "source": [
    "# For now, we manually export the HTML and render it in a new cell\n",
    "from IPython.display import IFrame\n",
    "\n",
    "IFrame(\"render.html\", height=500, width=749)"
   ]
  },
  {
   "cell_type": "code",
   "execution_count": null,
   "id": "a4355ecf-fa86-43be-9e0e-f42d144a09bd",
   "metadata": {},
   "outputs": [],
   "source": []
  }
 ],
 "metadata": {
  "kernelspec": {
   "display_name": "python3",
   "language": "python",
   "name": "python3"
  },
  "widgets": {
   "application/vnd.jupyter.widget-state+json": {
    "state": {
     "043344e95f094339887051c22b3a6f3c": {
      "model_module": "@jupyter-widgets/controls",
      "model_module_version": "2.0.0",
      "model_name": "HTMLStyleModel",
      "state": {
       "description_width": "",
       "font_size": null,
       "text_color": null
      }
     },
     "07492eff899f4d8ebddf6d18b7f97e1d": {
      "model_module": "@jupyter-widgets/controls",
      "model_module_version": "2.0.0",
      "model_name": "HTMLStyleModel",
      "state": {
       "description_width": "",
       "font_size": null,
       "text_color": null
      }
     },
     "14ecf6cde1704aa2afe440a323f7fe76": {
      "model_module": "@jupyter-widgets/controls",
      "model_module_version": "2.0.0",
      "model_name": "HTMLStyleModel",
      "state": {
       "description_width": "",
       "font_size": null,
       "text_color": null
      }
     },
     "1669eb4b7f04405c85de40a7ebd74661": {
      "model_module": "@jupyter-widgets/controls",
      "model_module_version": "2.0.0",
      "model_name": "HTMLModel",
      "state": {
       "layout": "IPY_MODEL_5113f7fda85647a89387ce8c1e98361e",
       "style": "IPY_MODEL_ea2c473dbbfa439788bb07752ddeb77b",
       "value": "<iframe src='http://localhost:52008/index.html?ui=P_0x15c6a7940_2&reconnect=auto' class='pyvista' style='width: 99%; height: 600px; border: 1px solid rgb(221,221,221);'></iframe>"
      }
     },
     "25e2717cdc21446899abca1d6584645d": {
      "model_module": "@jupyter-widgets/controls",
      "model_module_version": "2.0.0",
      "model_name": "HTMLStyleModel",
      "state": {
       "description_width": "",
       "font_size": null,
       "text_color": null
      }
     },
     "29e6b0d6ce634544a0c761be5f697ebc": {
      "model_module": "@jupyter-widgets/base",
      "model_module_version": "2.0.0",
      "model_name": "LayoutModel",
      "state": {}
     },
     "30d10247008f424b94cd2ee04b81f8c9": {
      "model_module": "@jupyter-widgets/base",
      "model_module_version": "2.0.0",
      "model_name": "LayoutModel",
      "state": {}
     },
     "32ce91deb54d424c8eccf28af8fded13": {
      "model_module": "@jupyter-widgets/controls",
      "model_module_version": "2.0.0",
      "model_name": "HTMLStyleModel",
      "state": {
       "description_width": "",
       "font_size": null,
       "text_color": null
      }
     },
     "3a70b67a4fbd4a53afdab92cadf6a591": {
      "model_module": "@jupyter-widgets/controls",
      "model_module_version": "2.0.0",
      "model_name": "HTMLModel",
      "state": {
       "layout": "IPY_MODEL_88c8488cb2064a6a870d688f04217e2d",
       "style": "IPY_MODEL_efcf83619f2f4fbe87964070f843ad92",
       "value": "<iframe src='http://localhost:52008/index.html?ui=P_0x15c6a7460_7&reconnect=auto' class='pyvista' style='width: 99%; height: 600px; border: 1px solid rgb(221,221,221);'></iframe>"
      }
     },
     "47ea745de9634d51b999285a484ab608": {
      "model_module": "@jupyter-widgets/controls",
      "model_module_version": "2.0.0",
      "model_name": "HTMLStyleModel",
      "state": {
       "description_width": "",
       "font_size": null,
       "text_color": null
      }
     },
     "5113f7fda85647a89387ce8c1e98361e": {
      "model_module": "@jupyter-widgets/base",
      "model_module_version": "2.0.0",
      "model_name": "LayoutModel",
      "state": {}
     },
     "552422b5a4e14ca8bdfb41a4ba9f401f": {
      "model_module": "@jupyter-widgets/controls",
      "model_module_version": "2.0.0",
      "model_name": "HTMLStyleModel",
      "state": {
       "description_width": "",
       "font_size": null,
       "text_color": null
      }
     },
     "59929a902139422183455c7fd7d325e5": {
      "model_module": "@jupyter-widgets/controls",
      "model_module_version": "2.0.0",
      "model_name": "HTMLModel",
      "state": {
       "layout": "IPY_MODEL_e7491ca56b1e4fffbeb872085524d33d",
       "style": "IPY_MODEL_14ecf6cde1704aa2afe440a323f7fe76",
       "value": "<iframe src='http://localhost:52008/index.html?ui=P_0x15a3e52a0_8&reconnect=auto' class='pyvista' style='width: 99%; height: 600px; border: 1px solid rgb(221,221,221);'></iframe>"
      }
     },
     "6761cb8c5dc44d31a7dc64a08e99500e": {
      "model_module": "@jupyter-widgets/controls",
      "model_module_version": "2.0.0",
      "model_name": "HTMLModel",
      "state": {
       "layout": "IPY_MODEL_d2204affc4e44d368899f2f6249bed57",
       "style": "IPY_MODEL_552422b5a4e14ca8bdfb41a4ba9f401f",
       "value": "<iframe src='http://localhost:52008/index.html?ui=P_0x15c6a6410_3&reconnect=auto' class='pyvista' style='width: 99%; height: 600px; border: 1px solid rgb(221,221,221);'></iframe>"
      }
     },
     "7c12fcdfc57b4c96a9c129296516fd2b": {
      "model_module": "@jupyter-widgets/controls",
      "model_module_version": "2.0.0",
      "model_name": "HTMLModel",
      "state": {
       "layout": "IPY_MODEL_e59ebe6b8b3a47afbb45e08572f3d87d",
       "style": "IPY_MODEL_32ce91deb54d424c8eccf28af8fded13",
       "value": "<iframe src='http://localhost:52008/index.html?ui=P_0x15a3e7be0_1&reconnect=auto' class='pyvista' style='width: 99%; height: 600px; border: 1px solid rgb(221,221,221);'></iframe>"
      }
     },
     "88c8488cb2064a6a870d688f04217e2d": {
      "model_module": "@jupyter-widgets/base",
      "model_module_version": "2.0.0",
      "model_name": "LayoutModel",
      "state": {}
     },
     "8a97c40a296b406ab4dfbefbb38bae16": {
      "model_module": "@jupyter-widgets/controls",
      "model_module_version": "2.0.0",
      "model_name": "HTMLStyleModel",
      "state": {
       "description_width": "",
       "font_size": null,
       "text_color": null
      }
     },
     "92bb622d7d1c47fb98db021398d30bf9": {
      "model_module": "@jupyter-widgets/controls",
      "model_module_version": "2.0.0",
      "model_name": "HTMLModel",
      "state": {
       "layout": "IPY_MODEL_b6f6450d63104801bcaf6896fa1404d5",
       "style": "IPY_MODEL_07492eff899f4d8ebddf6d18b7f97e1d",
       "value": "<iframe src='http://localhost:52008/index.html?ui=P_0x15c6a6650_9&reconnect=auto' class='pyvista' style='width: 99%; height: 600px; border: 1px solid rgb(221,221,221);'></iframe>"
      }
     },
     "9437146604fb47c395a50a70cbbe33ae": {
      "model_module": "@jupyter-widgets/controls",
      "model_module_version": "2.0.0",
      "model_name": "HTMLModel",
      "state": {
       "layout": "IPY_MODEL_29e6b0d6ce634544a0c761be5f697ebc",
       "style": "IPY_MODEL_043344e95f094339887051c22b3a6f3c",
       "value": "<iframe src='http://localhost:52008/index.html?ui=P_0x143e53e80_0&reconnect=auto' class='pyvista' style='width: 99%; height: 600px; border: 1px solid rgb(221,221,221);'></iframe>"
      }
     },
     "ae4c81efbd214cd7821015c169a4cb74": {
      "model_module": "@jupyter-widgets/controls",
      "model_module_version": "2.0.0",
      "model_name": "HTMLModel",
      "state": {
       "layout": "IPY_MODEL_eeb415a5d8b1411e94d4715e80f54e60",
       "style": "IPY_MODEL_47ea745de9634d51b999285a484ab608",
       "value": "<iframe src='http://localhost:52008/index.html?ui=P_0x2f508b8b0_4&reconnect=auto' class='pyvista' style='width: 99%; height: 600px; border: 1px solid rgb(221,221,221);'></iframe>"
      }
     },
     "b6f6450d63104801bcaf6896fa1404d5": {
      "model_module": "@jupyter-widgets/base",
      "model_module_version": "2.0.0",
      "model_name": "LayoutModel",
      "state": {}
     },
     "ba0f6ac474f942b7b09da998a671765a": {
      "model_module": "@jupyter-widgets/base",
      "model_module_version": "2.0.0",
      "model_name": "LayoutModel",
      "state": {}
     },
     "c0158649ee4c42f4a7f0a656df8867e1": {
      "model_module": "@jupyter-widgets/controls",
      "model_module_version": "2.0.0",
      "model_name": "HTMLModel",
      "state": {
       "layout": "IPY_MODEL_30d10247008f424b94cd2ee04b81f8c9",
       "style": "IPY_MODEL_8a97c40a296b406ab4dfbefbb38bae16",
       "value": "<iframe src='http://localhost:52008/index.html?ui=P_0x15a3e62c0_5&reconnect=auto' class='pyvista' style='width: 99%; height: 600px; border: 1px solid rgb(221,221,221);'></iframe>"
      }
     },
     "cd6139adc5f9433f8b312695a2fd0634": {
      "model_module": "@jupyter-widgets/controls",
      "model_module_version": "2.0.0",
      "model_name": "HTMLModel",
      "state": {
       "layout": "IPY_MODEL_ba0f6ac474f942b7b09da998a671765a",
       "style": "IPY_MODEL_25e2717cdc21446899abca1d6584645d",
       "value": "<iframe src='http://localhost:52008/index.html?ui=P_0x15c6a75b0_6&reconnect=auto' class='pyvista' style='width: 99%; height: 600px; border: 1px solid rgb(221,221,221);'></iframe>"
      }
     },
     "d2204affc4e44d368899f2f6249bed57": {
      "model_module": "@jupyter-widgets/base",
      "model_module_version": "2.0.0",
      "model_name": "LayoutModel",
      "state": {}
     },
     "e59ebe6b8b3a47afbb45e08572f3d87d": {
      "model_module": "@jupyter-widgets/base",
      "model_module_version": "2.0.0",
      "model_name": "LayoutModel",
      "state": {}
     },
     "e7491ca56b1e4fffbeb872085524d33d": {
      "model_module": "@jupyter-widgets/base",
      "model_module_version": "2.0.0",
      "model_name": "LayoutModel",
      "state": {}
     },
     "ea2c473dbbfa439788bb07752ddeb77b": {
      "model_module": "@jupyter-widgets/controls",
      "model_module_version": "2.0.0",
      "model_name": "HTMLStyleModel",
      "state": {
       "description_width": "",
       "font_size": null,
       "text_color": null
      }
     },
     "eeb415a5d8b1411e94d4715e80f54e60": {
      "model_module": "@jupyter-widgets/base",
      "model_module_version": "2.0.0",
      "model_name": "LayoutModel",
      "state": {}
     },
     "efcf83619f2f4fbe87964070f843ad92": {
      "model_module": "@jupyter-widgets/controls",
      "model_module_version": "2.0.0",
      "model_name": "HTMLStyleModel",
      "state": {
       "description_width": "",
       "font_size": null,
       "text_color": null
      }
     }
    },
    "version_major": 2,
    "version_minor": 0
   }
  }
 },
 "nbformat": 4,
 "nbformat_minor": 5
}
