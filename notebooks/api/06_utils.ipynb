{
 "cells": [
  {
   "cell_type": "raw",
   "id": "13e4e5c2",
   "metadata": {},
   "source": [
    "---\n",
    "description: Utility functions\n",
    "output-file: utils.html\n",
    "title: utils\n",
    "---"
   ]
  },
  {
   "cell_type": "code",
   "execution_count": null,
   "id": "ea144574",
   "metadata": {},
   "outputs": [],
   "source": [
    "#| default_exp utils"
   ]
  },
  {
   "cell_type": "code",
   "execution_count": null,
   "id": "c2c12d11",
   "metadata": {},
   "outputs": [],
   "source": [
    "#| hide\n",
    "from nbdev.showdoc import *"
   ]
  },
  {
   "cell_type": "markdown",
   "id": "3b2e0163-4cf3-42f2-8625-612dd4d3b453",
   "metadata": {},
   "source": [
    "## Installing Pytorch3D"
   ]
  },
  {
   "cell_type": "code",
   "execution_count": null,
   "id": "4e3f447a-25c9-4e9a-a8b9-e0d82c3b3b62",
   "metadata": {},
   "outputs": [],
   "source": [
    "#| export\n",
    "import subprocess\n",
    "import sys\n",
    "\n",
    "import torch\n",
    "\n",
    "\n",
    "def install_pytorch3d():\n",
    "    pyt_version_str = torch.__version__.split(\"+\")[0].replace(\".\", \"\")\n",
    "    version_str = \"\".join(\n",
    "        [\n",
    "            f\"py3{sys.version_info.minor}_cu\",\n",
    "            torch.version.cuda.replace(\".\", \"\"),\n",
    "            f\"_pyt{pyt_version_str}\",\n",
    "        ]\n",
    "    )\n",
    "    subprocess.run([\"pip\", \"install\", \"fvcore\", \"iopath\"])\n",
    "    subprocess.run(\n",
    "        [\n",
    "            \"pip\",\n",
    "            \"install\",\n",
    "            \"--no-index\",\n",
    "            \"--no-cache-dir\",\n",
    "            \"pytorch3d\",\n",
    "            \"-f\",\n",
    "            f\"https://dl.fbaipublicfiles.com/pytorch3d/packaging/wheels/{version_str}/download.html\",\n",
    "        ]\n",
    "    )"
   ]
  },
  {
   "cell_type": "code",
   "execution_count": null,
   "id": "3fe3b2dd",
   "metadata": {},
   "outputs": [],
   "source": [
    "#| hide\n",
    "import nbdev\n",
    "\n",
    "nbdev.nbdev_export()"
   ]
  },
  {
   "cell_type": "code",
   "execution_count": null,
   "id": "bc56ada1",
   "metadata": {},
   "outputs": [],
   "source": []
  }
 ],
 "metadata": {
  "kernelspec": {
   "display_name": "python3",
   "language": "python",
   "name": "python3"
  }
 },
 "nbformat": 4,
 "nbformat_minor": 5
}
