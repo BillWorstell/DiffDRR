{
 "cells": [
  {
   "cell_type": "raw",
   "id": "13e4e5c2",
   "metadata": {},
   "source": [
    "---\n",
    "title: utils\n",
    "description: Utility functions\n",
    "output-file: utils.html\n",
    "skip_exec: true\n",
    "---"
   ]
  },
  {
   "cell_type": "code",
   "execution_count": null,
   "id": "ea144574",
   "metadata": {},
   "outputs": [],
   "source": [
    "#| default_exp utils"
   ]
  },
  {
   "cell_type": "code",
   "execution_count": null,
   "id": "c2c12d11",
   "metadata": {},
   "outputs": [],
   "source": [
    "#| hide\n",
    "from nbdev.showdoc import *"
   ]
  },
  {
   "cell_type": "markdown",
   "id": "2c4391cc-5fe3-422e-bf0e-2ff23cd4c11d",
   "metadata": {},
   "source": [
    "## SO(3) parameterization conversions\n",
    "\n",
    "Implementations to convert `rotation_10d` ([Peretroukhin et al., 2021](https://arxiv.org/abs/2006.01031)) and `quaternion_adjugate` ([Hanson and Hanson, 2022](https://arxiv.org/abs/2205.09116)) parameterizations of SO(3) to quaternions. These can then be turned into rotation matrices by `PyTorch3D`."
   ]
  },
  {
   "cell_type": "code",
   "execution_count": null,
   "id": "6e82b362-c99f-412a-8951-55cc19cbad59",
   "metadata": {},
   "outputs": [],
   "source": [
    "#| export\n",
    "import torch"
   ]
  },
  {
   "cell_type": "code",
   "execution_count": null,
   "id": "819da27f-91ab-4065-b033-d0b73deae208",
   "metadata": {},
   "outputs": [],
   "source": [
    "#| exporti\n",
    "def _10vec_to_4x4symmetric(vec):\n",
    "    \"\"\"Convert a 10-vector to a symmetric 4x4 matrix.\"\"\"\n",
    "    b = len(vec)\n",
    "    A = torch.zeros(b, 4, 4, device=vec.device)\n",
    "    idx, jdx = torch.triu_indices(4, 4)\n",
    "    A[..., idx, jdx] = vec\n",
    "    A[..., jdx, idx] = vec\n",
    "    return A"
   ]
  },
  {
   "cell_type": "code",
   "execution_count": null,
   "id": "0da8a8fa-3fb0-4366-b898-fccb287049ac",
   "metadata": {},
   "outputs": [],
   "source": [
    "#| export\n",
    "def rotation_10d_to_quaternion(rotations: torch.Tensor) -> torch.Tensor:\n",
    "    \"\"\"\n",
    "    Convert a 10-vector into a symmetric matrix, whose eigenvector corresponding\n",
    "    to the eigenvalue of minimum modulus is the resulting quaternion.\n",
    "\n",
    "    Source: https://arxiv.org/abs/2006.01031\n",
    "    \"\"\"\n",
    "    A = _10vec_to_4x4symmetric(rotations)  # A is a symmetric data matrix\n",
    "    return torch.linalg.eigh(A).eigenvectors[..., 0]"
   ]
  },
  {
   "cell_type": "code",
   "execution_count": null,
   "id": "ace62d9b-2ece-4b24-9085-14b73cbbb9f0",
   "metadata": {},
   "outputs": [],
   "source": [
    "#| export\n",
    "def quaternion_adjugate_to_quaternion(rotations: torch.Tensor) -> torch.Tensor:\n",
    "    \"\"\"\n",
    "    Convert a 10-vector in the quaternion adjugate, a symmetric matrix whose\n",
    "    eigenvector corresponding to the eigenvalue of maximum modulus is the\n",
    "    (unnormalized) quaternion. Uses a fast method to solve for the eigenvector\n",
    "    without explicity computing the eigendecomposition.\n",
    "\n",
    "    Source: https://arxiv.org/abs/2205.09116\n",
    "    \"\"\"\n",
    "    A = _10vec_to_4x4symmetric(rotations)  # A is the quaternion adjugate\n",
    "    norms = A.norm(dim=1).amax(dim=1, keepdim=True)\n",
    "    max_eigenvectors = torch.argmax(A.norm(dim=1), dim=1)\n",
    "    return A[range(len(A)), max_eigenvectors] / norms"
   ]
  },
  {
   "cell_type": "code",
   "execution_count": null,
   "id": "3fe3b2dd",
   "metadata": {},
   "outputs": [],
   "source": [
    "#| hide\n",
    "import nbdev\n",
    "\n",
    "nbdev.nbdev_export()"
   ]
  },
  {
   "cell_type": "code",
   "execution_count": null,
   "id": "27a1ce35-7b44-4be5-981b-d436c2572a7b",
   "metadata": {},
   "outputs": [],
   "source": []
  }
 ],
 "metadata": {
  "kernelspec": {
   "display_name": "python3",
   "language": "python",
   "name": "python3"
  }
 },
 "nbformat": 4,
 "nbformat_minor": 5
}
