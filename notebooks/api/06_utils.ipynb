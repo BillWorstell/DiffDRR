{
 "cells": [
  {
   "cell_type": "raw",
   "id": "13e4e5c2",
   "metadata": {},
   "source": [
    "---\n",
    "title: utils\n",
    "description: Utility functions\n",
    "output-file: utils.html\n",
    "---"
   ]
  },
  {
   "cell_type": "code",
   "execution_count": null,
   "id": "ea144574",
   "metadata": {},
   "outputs": [],
   "source": [
    "#| default_exp utils"
   ]
  },
  {
   "cell_type": "code",
   "execution_count": null,
   "id": "c2c12d11",
   "metadata": {},
   "outputs": [],
   "source": [
    "#| hide\n",
    "from nbdev.showdoc import *"
   ]
  },
  {
   "cell_type": "markdown",
   "id": "2c4391cc-5fe3-422e-bf0e-2ff23cd4c11d",
   "metadata": {},
   "source": [
    "## SO(3) parameterization conversions\n",
    "\n",
    "Implementations to convert `rotation_10d` ([Peretroukhin et al., 2021](https://arxiv.org/abs/2006.01031)) and `quaternion_adjugate` ([Hanson and Hanson, 2022](https://arxiv.org/abs/2205.09116)) parameterizations of SO(3) to quaternions. These can then be turned into rotation matrices by `PyTorch3D`."
   ]
  },
  {
   "cell_type": "code",
   "execution_count": null,
   "id": "6e82b362-c99f-412a-8951-55cc19cbad59",
   "metadata": {},
   "outputs": [],
   "source": [
    "#| export\n",
    "import torch"
   ]
  },
  {
   "cell_type": "code",
   "execution_count": null,
   "id": "fffb29f4-fdfc-4606-bc6d-6ecb3796c5ca",
   "metadata": {},
   "outputs": [],
   "source": [
    "#| exporti\n",
    "PARAMETERIZATIONS = [\n",
    "    \"axis_angle\",\n",
    "    \"euler_angles\",\n",
    "    \"matrix\",\n",
    "    \"quaternion\",\n",
    "    \"quaternion_adjugate\",\n",
    "    \"rotation_6d\",\n",
    "    \"rotation_10d\",\n",
    "    \"so3_log_map\",\n",
    "]"
   ]
  },
  {
   "cell_type": "code",
   "execution_count": null,
   "id": "819da27f-91ab-4065-b033-d0b73deae208",
   "metadata": {},
   "outputs": [],
   "source": [
    "#| exporti\n",
    "def _10vec_to_4x4symmetric(vec):\n",
    "    \"\"\"Convert a 10-vector to a symmetric 4x4 matrix.\"\"\"\n",
    "    b = len(vec)\n",
    "    A = torch.zeros(b, 4, 4, device=vec.device)\n",
    "    idx, jdx = torch.triu_indices(4, 4)\n",
    "    A[..., idx, jdx] = vec\n",
    "    A[..., jdx, idx] = vec\n",
    "    return A"
   ]
  },
  {
   "cell_type": "code",
   "execution_count": null,
   "id": "0da8a8fa-3fb0-4366-b898-fccb287049ac",
   "metadata": {},
   "outputs": [],
   "source": [
    "#| export\n",
    "def rotation_10d_to_quaternion(rotation: torch.Tensor) -> torch.Tensor:\n",
    "    \"\"\"\n",
    "    Convert a 10-vector into a symmetric matrix, whose eigenvector corresponding\n",
    "    to the eigenvalue of minimum modulus is the resulting quaternion.\n",
    "\n",
    "    Source: https://arxiv.org/abs/2006.01031\n",
    "    \"\"\"\n",
    "    A = _10vec_to_4x4symmetric(rotation)  # A is a symmetric data matrix\n",
    "    return torch.linalg.eigh(A).eigenvectors[..., 0]\n",
    "\n",
    "def quaternion_to_rotation_10d(q: torch.Tensor) -> torch.Tensor:\n",
    "    A = -torch.einsum(\"bi, bj -> bij\", q, q)\n",
    "    idx, jdx = torch.triu_indices(4, 4)\n",
    "    return A[..., idx, jdx]"
   ]
  },
  {
   "cell_type": "code",
   "execution_count": null,
   "id": "ace62d9b-2ece-4b24-9085-14b73cbbb9f0",
   "metadata": {},
   "outputs": [],
   "source": [
    "#| export\n",
    "def quaternion_adjugate_to_quaternion(rotation: torch.Tensor) -> torch.Tensor:\n",
    "    \"\"\"\n",
    "    Convert a 10-vector in the quaternion adjugate, a symmetric matrix whose\n",
    "    eigenvector corresponding to the eigenvalue of maximum modulus is the\n",
    "    (unnormalized) quaternion. Uses a fast method to solve for the eigenvector\n",
    "    without explicity computing the eigendecomposition.\n",
    "\n",
    "    Source: https://arxiv.org/abs/2205.09116\n",
    "    \"\"\"\n",
    "    A = _10vec_to_4x4symmetric(rotation)  # A is the quaternion adjugate\n",
    "    norms = A.norm(dim=1).amax(dim=1, keepdim=True)\n",
    "    max_eigenvectors = torch.argmax(A.norm(dim=1), dim=1)\n",
    "    return A[range(len(A)), max_eigenvectors] / norms\n",
    "\n",
    "\n",
    "def quaternion_to_quaternion_adjugate(q: torch.Tensor) -> torch.Tensor:\n",
    "    A = torch.einsum(\"bi, bj -> bij\", q, q)\n",
    "    idx, jdx = torch.triu_indices(4, 4)\n",
    "    return A[..., idx, jdx]"
   ]
  },
  {
   "cell_type": "code",
   "execution_count": null,
   "id": "cb3c1c77-ba8b-4221-8f45-262bfbfc659e",
   "metadata": {},
   "outputs": [],
   "source": [
    "#| export\n",
    "def convert(\n",
    "    rotation,\n",
    "    input_parameterization,\n",
    "    output_parameterization,\n",
    "    input_convention=None,\n",
    "    output_convention=None,\n",
    "):\n",
    "    \"\"\"\n",
    "    Convert a rotation in SO(3) from some parameterization to another.\n",
    "    Intermediated by temporary conversion to a rotation matrix.\n",
    "\n",
    "    If input or output parameterizations are `euler_angles`, need to specify\n",
    "    `input_convention` or `output_convention`.\n",
    "\n",
    "    Note: conversions to `rotation_10d` or `quaternion_adjugate` are not unique.\n",
    "    \"\"\"\n",
    "    matrix = _convert_to_rotation_matrix(\n",
    "        rotation, input_parameterization, input_convention\n",
    "    )\n",
    "    return _convert_from_rotation_matrix(\n",
    "        matrix, output_parameterization, output_convention\n",
    "    )"
   ]
  },
  {
   "cell_type": "code",
   "execution_count": null,
   "id": "7a2994e1-130a-4128-a6bc-0685b5d2dd70",
   "metadata": {},
   "outputs": [],
   "source": [
    "#| exporti\n",
    "from pytorch3d.transforms import (\n",
    "    axis_angle_to_matrix,\n",
    "    euler_angles_to_matrix,\n",
    "    quaternion_to_matrix,\n",
    "    rotation_6d_to_matrix,\n",
    "    so3_exp_map,\n",
    ")\n",
    "\n",
    "\n",
    "def _convert_to_rotation_matrix(rotation, parameterization, convention, **kwargs):\n",
    "    \"\"\"Convert any parameterization of a rotation to a matrix representation.\"\"\"\n",
    "    if parameterization == \"axis_angle\":\n",
    "        R = axis_angle_to_matrix(rotation)\n",
    "    elif parameterization == \"euler_angles\":\n",
    "        R = euler_angles_to_matrix(rotation, convention)\n",
    "    elif parameterization == \"matrix\":\n",
    "        R = rotation\n",
    "    elif parameterization == \"quaternion\":\n",
    "        R = quaternion_to_matrix(rotation)\n",
    "    elif parameterization == \"rotation_6d\":\n",
    "        R = rotation_6d_to_matrix(rotation)\n",
    "    elif parameterization == \"rotation_10d\":\n",
    "        R = quaternion_to_matrix(rotation_10d_to_quaternion(rotation))\n",
    "    elif parameterization == \"quaternion_adjugate\":\n",
    "        R = quaternion_to_matrix(quaternion_adjugate_to_quaternion(rotation))\n",
    "    elif parameterization == \"so3_log_map\":\n",
    "        R = so3_exp_map(rotation, **kwargs)\n",
    "    else:\n",
    "        raise ValueError(\n",
    "            f\"parameterization must be in {PARAMETERIZATIONS}, not {parameterization}\"\n",
    "        )\n",
    "    return R"
   ]
  },
  {
   "cell_type": "code",
   "execution_count": null,
   "id": "5b344db2-2340-446d-a8a7-c08f67230ad8",
   "metadata": {},
   "outputs": [],
   "source": [
    "#| exporti\n",
    "from pytorch3d.transforms import (\n",
    "    matrix_to_axis_angle,\n",
    "    matrix_to_euler_angles,\n",
    "    matrix_to_quaternion,\n",
    "    matrix_to_rotation_6d,\n",
    "    so3_log_map,\n",
    ")\n",
    "\n",
    "\n",
    "def _convert_from_rotation_matrix(matrix, parameterization, convention=None, **kwargs):\n",
    "    \"Convert a rotation matrix to any allowed parameterization.\"\n",
    "    if parameterization == \"axis_angle\":\n",
    "        rotation = matrix_to_axis_angle(matrix)\n",
    "    elif parameterization == \"euler_angles\":\n",
    "        rotation = matrix_to_euler_angles(matrix, convention)\n",
    "    elif parameterization == \"matrix\":\n",
    "        rotation = matrix\n",
    "    elif parameterization == \"quaternion\":\n",
    "        rotation = matrix_to_quaternion(matrix)\n",
    "    elif parameterization == \"rotation_6d\":\n",
    "        rotation = matrix_to_rotation_6d(matrix)\n",
    "    elif parameterization in [\"rotation_10d\"]:\n",
    "        q = _convert_from_rotation_matrix(matrix, \"quaternion\")\n",
    "        rotation = quaternion_to_rotation_10d(q)\n",
    "    elif parameterization == \"quaternion_adjugate\":\n",
    "        q = _convert_from_rotation_matrix(matrix, \"quaternion\")\n",
    "        rotation = quaternion_to_quaternion_adjugate(q)\n",
    "    elif parameterization == \"so3_log_map\":\n",
    "        rotation = so3_log_map(matrix, **kwargs)\n",
    "    else:\n",
    "        raise ValueError(\n",
    "            f\"parameterization must be in {PARAMETERIZATIONS}, not {parameterization}\"\n",
    "        )\n",
    "    return rotation"
   ]
  },
  {
   "cell_type": "markdown",
   "id": "735bc47e-8fbe-4e56-8b28-3a0aa36ac6c9",
   "metadata": {},
   "source": [
    "## Intrinsic matrix parsing\n",
    "\n",
    "From a calibrated camera's intrinsic matrix, calculate the following properties:\n",
    "\n",
    "- Focal length (in units length)\n",
    "- Principal point (in units length)"
   ]
  },
  {
   "cell_type": "code",
   "execution_count": null,
   "id": "21f2cbe7-2edb-497e-ae26-2810ae383b06",
   "metadata": {},
   "outputs": [],
   "source": [
    "#| export\n",
    "def get_focal_length(\n",
    "    intrinsic,  # Intrinsic matrix (3 x 3 tensor)\n",
    "    delx: float,  # X-direction spacing (in units length)\n",
    "    dely: float,  # Y-direction spacing (in units length)\n",
    ") -> float:  # Focal length (in units length)\n",
    "    fx = intrinsic[0, 0]\n",
    "    fy = intrinsic[1, 1]\n",
    "    return abs((fx * delx) + (fy * delx)).item() / 2.0"
   ]
  },
  {
   "cell_type": "code",
   "execution_count": null,
   "id": "7f8cc2a3-7589-4c24-a75a-ec1a0f921750",
   "metadata": {},
   "outputs": [],
   "source": [
    "#| export\n",
    "def get_principal_point(\n",
    "    intrinsic,  # Intrinsic matrix (3 x 3 tensor)\n",
    "    height: int,  # Y-direction length\n",
    "    width: int,  # X-direction length\n",
    "    delx: float,  # X-direction spacing (in units length)\n",
    "    dely: float,  # Y-direction spacing (in units length)\n",
    "):\n",
    "    x0 = delx * (width / 2 - intrinsic[0, 2])\n",
    "    y0 = dely * (height / 2 - intrinsic[1, 2])\n",
    "    return x0.item(), y0.item()"
   ]
  },
  {
   "cell_type": "code",
   "execution_count": null,
   "id": "b26ca510-b8c3-4383-ad67-4ff9d852484d",
   "metadata": {},
   "outputs": [],
   "source": [
    "#| export\n",
    "def parse_intrinsic_matrix(\n",
    "    intrinsic,  # Intrinsic matrix (3 x 3 tensor)\n",
    "    height: int,  # Y-direction length\n",
    "    width: int,  # X-direction length\n",
    "    delx: float,  # X-direction spacing (in units length)\n",
    "    dely: float,  # Y-direction spacing (in units length)\n",
    "):\n",
    "    focal_length = get_focal_length(intrinsic, delx, dely)\n",
    "    x0, y0 = get_principal_point(intrinsic, height, width, delx, dely)\n",
    "    return focal_length, x0, y0"
   ]
  },
  {
   "cell_type": "code",
   "execution_count": null,
   "id": "3fe3b2dd",
   "metadata": {},
   "outputs": [],
   "source": [
    "#| hide\n",
    "import nbdev\n",
    "\n",
    "nbdev.nbdev_export()"
   ]
  },
  {
   "cell_type": "code",
   "execution_count": null,
   "id": "27a1ce35-7b44-4be5-981b-d436c2572a7b",
   "metadata": {},
   "outputs": [],
   "source": []
  }
 ],
 "metadata": {
  "kernelspec": {
   "display_name": "python3",
   "language": "python",
   "name": "python3"
  }
 },
 "nbformat": 4,
 "nbformat_minor": 5
}
